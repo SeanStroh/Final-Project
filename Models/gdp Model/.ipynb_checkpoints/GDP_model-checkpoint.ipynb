{
 "cells": [
  {
   "cell_type": "code",
   "execution_count": 3,
   "metadata": {},
   "outputs": [],
   "source": [
    "%matplotlib inline\n",
    "import matplotlib.pyplot as plt\n",
    "from matplotlib import style\n",
    "style.use('ggplot')\n",
    "import numpy as np\n",
    "import pandas as pd\n",
    "import math, datetime\n",
    "from scipy.stats import stats\n",
    "from sklearn import preprocessing\n",
    "from sklearn.model_selection import train_test_split\n",
    "from sklearn import svm\n",
    "# from sklearn import cross_validation\n",
    "from sklearn.linear_model import LinearRegression, BayesianRidge, ARDRegression"
   ]
  },
  {
   "cell_type": "code",
   "execution_count": 4,
   "metadata": {},
   "outputs": [],
   "source": [
    "# Read the csv file into a pandas DataFrame\n",
    "gdp = pd.read_csv('../../Clean Data/pandas_cleaned/gdp_clean_model_data.csv',\n",
    "                 header = 0,\n",
    "                 index_col = \"date\",\n",
    "                 parse_dates = True)"
   ]
  },
  {
   "cell_type": "code",
   "execution_count": 5,
   "metadata": {},
   "outputs": [
    {
     "data": {
      "text/html": [
       "<div>\n",
       "<style scoped>\n",
       "    .dataframe tbody tr th:only-of-type {\n",
       "        vertical-align: middle;\n",
       "    }\n",
       "\n",
       "    .dataframe tbody tr th {\n",
       "        vertical-align: top;\n",
       "    }\n",
       "\n",
       "    .dataframe thead th {\n",
       "        text-align: right;\n",
       "    }\n",
       "</style>\n",
       "<table border=\"1\" class=\"dataframe\">\n",
       "  <thead>\n",
       "    <tr style=\"text-align: right;\">\n",
       "      <th></th>\n",
       "      <th>GDP in millions</th>\n",
       "      <th>date_1</th>\n",
       "    </tr>\n",
       "    <tr>\n",
       "      <th>date</th>\n",
       "      <th></th>\n",
       "      <th></th>\n",
       "    </tr>\n",
       "  </thead>\n",
       "  <tbody>\n",
       "    <tr>\n",
       "      <td>1948-01-01</td>\n",
       "      <td>265742</td>\n",
       "      <td>1/1/1948</td>\n",
       "    </tr>\n",
       "    <tr>\n",
       "      <td>1948-04-01</td>\n",
       "      <td>272567</td>\n",
       "      <td>4/1/1948</td>\n",
       "    </tr>\n",
       "    <tr>\n",
       "      <td>1948-07-01</td>\n",
       "      <td>279196</td>\n",
       "      <td>7/1/1948</td>\n",
       "    </tr>\n",
       "    <tr>\n",
       "      <td>1948-10-01</td>\n",
       "      <td>280366</td>\n",
       "      <td>10/1/1948</td>\n",
       "    </tr>\n",
       "    <tr>\n",
       "      <td>1949-01-01</td>\n",
       "      <td>275034</td>\n",
       "      <td>1/1/1949</td>\n",
       "    </tr>\n",
       "  </tbody>\n",
       "</table>\n",
       "</div>"
      ],
      "text/plain": [
       "            GDP in millions     date_1\n",
       "date                                  \n",
       "1948-01-01           265742   1/1/1948\n",
       "1948-04-01           272567   4/1/1948\n",
       "1948-07-01           279196   7/1/1948\n",
       "1948-10-01           280366  10/1/1948\n",
       "1949-01-01           275034   1/1/1949"
      ]
     },
     "execution_count": 5,
     "metadata": {},
     "output_type": "execute_result"
    }
   ],
   "source": [
    "gdp.head()"
   ]
  },
  {
   "cell_type": "code",
   "execution_count": 6,
   "metadata": {},
   "outputs": [],
   "source": [
    "gdp['date_1'] = pd.to_datetime([\n",
    "     '-'.join(x.split()[::-1]) for x in gdp['date_1']])"
   ]
  },
  {
   "cell_type": "code",
   "execution_count": 7,
   "metadata": {},
   "outputs": [],
   "source": [
    "gdp = gdp.rename(columns = {\n",
    "    \"GDP in millions\" : \"GDP_in_millions\",\n",
    "})"
   ]
  },
  {
   "cell_type": "code",
   "execution_count": 8,
   "metadata": {},
   "outputs": [
    {
     "data": {
      "text/plain": [
       "GDP_in_millions             int64\n",
       "date_1             datetime64[ns]\n",
       "dtype: object"
      ]
     },
     "execution_count": 8,
     "metadata": {},
     "output_type": "execute_result"
    }
   ],
   "source": [
    "gdp.dtypes"
   ]
  },
  {
   "cell_type": "code",
   "execution_count": 9,
   "metadata": {},
   "outputs": [
    {
     "data": {
      "text/html": [
       "<div>\n",
       "<style scoped>\n",
       "    .dataframe tbody tr th:only-of-type {\n",
       "        vertical-align: middle;\n",
       "    }\n",
       "\n",
       "    .dataframe tbody tr th {\n",
       "        vertical-align: top;\n",
       "    }\n",
       "\n",
       "    .dataframe thead th {\n",
       "        text-align: right;\n",
       "    }\n",
       "</style>\n",
       "<table border=\"1\" class=\"dataframe\">\n",
       "  <thead>\n",
       "    <tr style=\"text-align: right;\">\n",
       "      <th></th>\n",
       "      <th>GDP_in_millions</th>\n",
       "      <th>date_1</th>\n",
       "    </tr>\n",
       "    <tr>\n",
       "      <th>date</th>\n",
       "      <th></th>\n",
       "      <th></th>\n",
       "    </tr>\n",
       "  </thead>\n",
       "  <tbody>\n",
       "    <tr>\n",
       "      <td>1948-01-01</td>\n",
       "      <td>265742</td>\n",
       "      <td>1948-01-01</td>\n",
       "    </tr>\n",
       "    <tr>\n",
       "      <td>1948-04-01</td>\n",
       "      <td>272567</td>\n",
       "      <td>1948-04-01</td>\n",
       "    </tr>\n",
       "    <tr>\n",
       "      <td>1948-07-01</td>\n",
       "      <td>279196</td>\n",
       "      <td>1948-07-01</td>\n",
       "    </tr>\n",
       "    <tr>\n",
       "      <td>1948-10-01</td>\n",
       "      <td>280366</td>\n",
       "      <td>1948-10-01</td>\n",
       "    </tr>\n",
       "    <tr>\n",
       "      <td>1949-01-01</td>\n",
       "      <td>275034</td>\n",
       "      <td>1949-01-01</td>\n",
       "    </tr>\n",
       "  </tbody>\n",
       "</table>\n",
       "</div>"
      ],
      "text/plain": [
       "            GDP_in_millions     date_1\n",
       "date                                  \n",
       "1948-01-01           265742 1948-01-01\n",
       "1948-04-01           272567 1948-04-01\n",
       "1948-07-01           279196 1948-07-01\n",
       "1948-10-01           280366 1948-10-01\n",
       "1949-01-01           275034 1949-01-01"
      ]
     },
     "execution_count": 9,
     "metadata": {},
     "output_type": "execute_result"
    }
   ],
   "source": [
    "gdp.head()"
   ]
  },
  {
   "cell_type": "code",
   "execution_count": 10,
   "metadata": {},
   "outputs": [
    {
     "name": "stdout",
     "output_type": "stream",
     "text": [
      "Shape:  (289, 1) (289, 1)\n"
     ]
    }
   ],
   "source": [
    "X = gdp.date_1.values.reshape(-1, 1)\n",
    "y = gdp.GDP_in_millions.values.reshape(-1, 1)\n",
    "\n",
    "print(\"Shape: \", X.shape, y.shape)"
   ]
  },
  {
   "cell_type": "code",
   "execution_count": 11,
   "metadata": {
    "scrolled": false
   },
   "outputs": [
    {
     "name": "stderr",
     "output_type": "stream",
     "text": [
      "C:\\Users\\stroh\\Anaconda3\\lib\\site-packages\\pandas\\plotting\\_matplotlib\\converter.py:103: FutureWarning: Using an implicitly registered datetime converter for a matplotlib plotting method. The converter was registered by pandas on import. Future versions of pandas will require you to explicitly register matplotlib converters.\n",
      "\n",
      "To register the converters:\n",
      "\t>>> from pandas.plotting import register_matplotlib_converters\n",
      "\t>>> register_matplotlib_converters()\n",
      "  warnings.warn(msg, FutureWarning)\n"
     ]
    },
    {
     "data": {
      "text/plain": [
       "Text(0, 0.5, 'GDP in Millions of Dollars')"
      ]
     },
     "execution_count": 11,
     "metadata": {},
     "output_type": "execute_result"
    },
    {
     "data": {
      "image/png": "[encoded data removed]",
      "text/plain": [
       "<Figure size 720x504 with 1 Axes>"
      ]
     },
     "metadata": {
      "needs_background": "light"
     },
     "output_type": "display_data"
    }
   ],
   "source": [
    "from matplotlib.pyplot import figure\n",
    "figure (figsize = (10,7))\n",
    "plt.scatter(X, y)\n",
    "plt.xlabel(\"Date Time\")\n",
    "plt.ylabel(\"GDP in Millions of Dollars\")"
   ]
  },
  {
   "cell_type": "code",
   "execution_count": 12,
   "metadata": {},
   "outputs": [
    {
     "data": {
      "text/html": [
       "<div>\n",
       "<style scoped>\n",
       "    .dataframe tbody tr th:only-of-type {\n",
       "        vertical-align: middle;\n",
       "    }\n",
       "\n",
       "    .dataframe tbody tr th {\n",
       "        vertical-align: top;\n",
       "    }\n",
       "\n",
       "    .dataframe thead th {\n",
       "        text-align: right;\n",
       "    }\n",
       "</style>\n",
       "<table border=\"1\" class=\"dataframe\">\n",
       "  <thead>\n",
       "    <tr style=\"text-align: right;\">\n",
       "      <th></th>\n",
       "      <th>GDP_in_millions</th>\n",
       "      <th>date_1</th>\n",
       "    </tr>\n",
       "    <tr>\n",
       "      <th>date</th>\n",
       "      <th></th>\n",
       "      <th></th>\n",
       "    </tr>\n",
       "  </thead>\n",
       "  <tbody>\n",
       "    <tr>\n",
       "      <td>1948-01-01</td>\n",
       "      <td>265742</td>\n",
       "      <td>1948-01-01</td>\n",
       "    </tr>\n",
       "    <tr>\n",
       "      <td>1948-04-01</td>\n",
       "      <td>272567</td>\n",
       "      <td>1948-04-01</td>\n",
       "    </tr>\n",
       "    <tr>\n",
       "      <td>1948-07-01</td>\n",
       "      <td>279196</td>\n",
       "      <td>1948-07-01</td>\n",
       "    </tr>\n",
       "    <tr>\n",
       "      <td>1948-10-01</td>\n",
       "      <td>280366</td>\n",
       "      <td>1948-10-01</td>\n",
       "    </tr>\n",
       "    <tr>\n",
       "      <td>1949-01-01</td>\n",
       "      <td>275034</td>\n",
       "      <td>1949-01-01</td>\n",
       "    </tr>\n",
       "  </tbody>\n",
       "</table>\n",
       "</div>"
      ],
      "text/plain": [
       "            GDP_in_millions     date_1\n",
       "date                                  \n",
       "1948-01-01           265742 1948-01-01\n",
       "1948-04-01           272567 1948-04-01\n",
       "1948-07-01           279196 1948-07-01\n",
       "1948-10-01           280366 1948-10-01\n",
       "1949-01-01           275034 1949-01-01"
      ]
     },
     "execution_count": 12,
     "metadata": {},
     "output_type": "execute_result"
    }
   ],
   "source": [
    "gdp.head()"
   ]
  },
  {
   "cell_type": "code",
   "execution_count": 13,
   "metadata": {},
   "outputs": [],
   "source": [
    "df = gdp[[\"GDP_in_millions\", \"date_1\"]]"
   ]
  },
  {
   "cell_type": "code",
   "execution_count": 14,
   "metadata": {},
   "outputs": [],
   "source": [
    "forecast_col = \"GDP_in_millions\""
   ]
  },
  {
   "cell_type": "code",
   "execution_count": 15,
   "metadata": {},
   "outputs": [],
   "source": [
    "forecast_out = int(math.ceil(0.1*len(df)))"
   ]
  },
  {
   "cell_type": "code",
   "execution_count": 16,
   "metadata": {},
   "outputs": [],
   "source": [
    "df[\"label\"] = df[forecast_col].shift(-forecast_out)"
   ]
  },
  {
   "cell_type": "code",
   "execution_count": 17,
   "metadata": {},
   "outputs": [
    {
     "name": "stdout",
     "output_type": "stream",
     "text": [
      "GDP_in_millions    289\n",
      "date_1             289\n",
      "label              260\n",
      "dtype: int64\n"
     ]
    }
   ],
   "source": [
    "print(df.count())"
   ]
  },
  {
   "cell_type": "code",
   "execution_count": 18,
   "metadata": {},
   "outputs": [],
   "source": [
    "X = np.array(df.drop([\"label\", \"date_1\"],1))\n",
    "X = preprocessing.scale(X)\n",
    "X = X[:-forecast_out]\n",
    "X_lately = X[-forecast_out:]"
   ]
  },
  {
   "cell_type": "code",
   "execution_count": 19,
   "metadata": {},
   "outputs": [],
   "source": [
    "df.dropna(inplace = True)\n",
    "y = np.array(df[\"label\"])\n",
    "y = np.array(df[\"label\"])"
   ]
  },
  {
   "cell_type": "code",
   "execution_count": 20,
   "metadata": {},
   "outputs": [],
   "source": [
    "X_train, X_test, y_train, y_test = train_test_split(X, y, test_size = 0.2)"
   ]
  },
  {
   "cell_type": "code",
   "execution_count": 21,
   "metadata": {},
   "outputs": [
    {
     "data": {
      "text/plain": [
       "LinearRegression(copy_X=True, fit_intercept=True, n_jobs=None, normalize=False)"
      ]
     },
     "execution_count": 21,
     "metadata": {},
     "output_type": "execute_result"
    }
   ],
   "source": [
    "clf = LinearRegression()\n",
    "clf.fit(X_train, y_train)"
   ]
  },
  {
   "cell_type": "code",
   "execution_count": 22,
   "metadata": {},
   "outputs": [],
   "source": [
    "accuracy = clf.score(X_test, y_test)"
   ]
  },
  {
   "cell_type": "code",
   "execution_count": 23,
   "metadata": {},
   "outputs": [
    {
     "name": "stdout",
     "output_type": "stream",
     "text": [
      "0.9892282152076011\n",
      "Forecast out is = 29\n"
     ]
    }
   ],
   "source": [
    "print(accuracy)\n",
    "print(f\"Forecast out is = {forecast_out}\")"
   ]
  },
  {
   "cell_type": "code",
   "execution_count": 24,
   "metadata": {},
   "outputs": [],
   "source": [
    "forecast_set = clf.predict(X_lately)"
   ]
  },
  {
   "cell_type": "code",
   "execution_count": 25,
   "metadata": {},
   "outputs": [
    {
     "name": "stdout",
     "output_type": "stream",
     "text": [
      "[17869735.46235533 18219909.88048198 18407972.45718148 18559666.10139387\n",
      " 18778523.01773843 18999419.48215796 19223478.40639283 19420265.14353687\n",
      " 19609133.48354032 19569861.22471641 19769138.73738561 19807268.74614985\n",
      " 19451902.63390318 19239186.27854536 19185429.61856963 19272403.06498742\n",
      " 19540185.92914787 19660507.66257892 19924473.14251057 20122779.87155118\n",
      " 20330249.09627367 20388244.71583882 20659446.59485059 20782774.79232134\n",
      " 21046562.35971548 21334442.89450838 21505263.42572463 21640495.00333198\n",
      " 21771624.27880626] 0.9892282152076011 29\n"
     ]
    }
   ],
   "source": [
    "print(forecast_set, accuracy, forecast_out)"
   ]
  },
  {
   "cell_type": "code",
   "execution_count": 26,
   "metadata": {},
   "outputs": [],
   "source": [
    "df[\"Forecast\"] = np.nan"
   ]
  },
  {
   "cell_type": "code",
   "execution_count": 27,
   "metadata": {},
   "outputs": [],
   "source": [
    "last_quarter = df.iloc[-1].name\n",
    "last_unix = last_quarter.timestamp()\n",
    "one_quarter = 3*(2628000)\n",
    "next_unix = last_unix + one_quarter"
   ]
  },
  {
   "cell_type": "code",
   "execution_count": 28,
   "metadata": {},
   "outputs": [],
   "source": [
    "for i in forecast_set:\n",
    "    next_quarter = datetime.datetime.fromtimestamp(next_unix)\n",
    "    next_unix += one_quarter\n",
    "    df.loc[next_quarter] = [np.nan for x in range(len(df.columns)-1)] + [i]"
   ]
  },
  {
   "cell_type": "code",
   "execution_count": 29,
   "metadata": {},
   "outputs": [
    {
     "data": {
      "text/plain": [
       "<Figure size 1440x1440 with 0 Axes>"
      ]
     },
     "execution_count": 29,
     "metadata": {},
     "output_type": "execute_result"
    },
    {
     "data": {
      "image/png": "[encoded data removed]",
      "text/plain": [
       "<Figure size 432x288 with 1 Axes>"
      ]
     },
     "metadata": {
      "needs_background": "light"
     },
     "output_type": "display_data"
    },
    {
     "data": {
      "text/plain": [
       "<Figure size 1440x1440 with 0 Axes>"
      ]
     },
     "metadata": {},
     "output_type": "display_data"
    }
   ],
   "source": [
    "df[\"GDP_in_millions\"].plot()\n",
    "df[\"Forecast\"].plot()\n",
    "left, right = plt.xlim()\n",
    "plt.legend(loc=4)\n",
    "plt.xlabel(\"Date\")\n",
    "plt.ylabel('GDP in Millions (US DOllars)')\n",
    "figure (figsize = (20, 20))\n",
    "\n",
    "# # make data\n",
    "# Z, extent = df[\"GDP_in_millions\"]\n",
    "# Z2 = np.zeros([150, 150], dtype=\"d\")\n",
    "# # ny, nx = Z.shape\n",
    "# Z2[30:30 + ny, 30:30 + nx] = Z\n",
    "\n",
    "# ax.imshow(Z2, extent=extent, interpolation=\"nearest\",\n",
    "#           origin=\"lower\")\n",
    "\n",
    "# # inset axes....\n",
    "# axins = ax.inset_axes([0.5, 0.5, 0.47, 0.47])\n",
    "# axins.imshow(Z2, extent=extent, interpolation=\"nearest\",\n",
    "#           origin=\"lower\")\n",
    "# # sub region of the original image\n",
    "# x1, x2, y1, y2 = 2010, 2020, 1.5, 2.9\n",
    "# axins.set_xlim(x1, x2)\n",
    "# axins.set_ylim(y1, y2)\n",
    "# axins.set_xticklabels('')\n",
    "# axins.set_yticklabels('')\n",
    "\n",
    "# ax.indicate_inset_zoom(axins)\n",
    "\n",
    "\n",
    "# plt.show()"
   ]
  },
  {
   "cell_type": "code",
   "execution_count": null,
   "metadata": {},
   "outputs": [],
   "source": []
  }
 ],
 "metadata": {
  "kernelspec": {
   "display_name": "Python 3",
   "language": "python",
   "name": "python3"
  },
  "language_info": {
   "codemirror_mode": {
    "name": "ipython",
    "version": 3
   },
   "file_extension": ".py",
   "mimetype": "text/x-python",
   "name": "python",
   "nbconvert_exporter": "python",
   "pygments_lexer": "ipython3",
   "version": "3.7.4"
  }
 },
 "nbformat": 4,
 "nbformat_minor": 2
}
